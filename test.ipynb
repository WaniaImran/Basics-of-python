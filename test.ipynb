{
 "cells": [
  {
   "cell_type": "markdown",
   "metadata": {},
   "source": []
  },
  {
   "cell_type": "code",
   "execution_count": 1,
   "metadata": {},
   "outputs": [
    {
     "data": {
      "text/plain": [
       "'ArithmeticErrorName=\"Wania\"\\nname=\"wania\"\\nprint(name)'"
      ]
     },
     "execution_count": 1,
     "metadata": {},
     "output_type": "execute_result"
    }
   ],
   "source": [
    "\"\"\"ArithmeticErrorName=\"Wania\"\n",
    "name=\"wania\"\n",
    "print(name)\"\"\"\n",
    "#_age=21  this will work\n",
    "# @age=21 this will not work\n",
    "\n"
   ]
  },
  {
   "cell_type": "code",
   "execution_count": null,
   "metadata": {},
   "outputs": [
    {
     "name": "stdout",
     "output_type": "stream",
     "text": [
      "Wania human\n"
     ]
    }
   ],
   "source": [
    "Name=\"Wania\"\n",
    "name=\"human\"\n",
    "print(Name,name)"
   ]
  },
  {
   "cell_type": "code",
   "execution_count": null,
   "metadata": {},
   "outputs": [
    {
     "name": "stdout",
     "output_type": "stream",
     "text": [
      "<class 'int'>\n"
     ]
    }
   ],
   "source": [
    "# Type inferencing\n",
    "age=20\n",
    "print(type(age)) # telling us about type of data"
   ]
  },
  {
   "cell_type": "code",
   "execution_count": 6,
   "metadata": {},
   "outputs": [
    {
     "name": "stdout",
     "output_type": "stream",
     "text": [
      "399\n"
     ]
    }
   ],
   "source": [
    "# line continuation\n",
    "total = 12+30+80+55+52+92+\\\n",
    "44+67-33\n",
    "print(total)"
   ]
  },
  {
   "cell_type": "code",
   "execution_count": 2,
   "metadata": {},
   "outputs": [
    {
     "name": "stdout",
     "output_type": "stream",
     "text": [
      "you are not an adult\n",
      "19\n"
     ]
    }
   ],
   "source": [
    "## Indentation in python\n",
    "age=19\n",
    "if age>20:\n",
    "    print(\"you are an adult\")\n",
    "else:\n",
    "    print(\"you are not an adult\")\n",
    "    \n",
    "print(age)"
   ]
  },
  {
   "cell_type": "code",
   "execution_count": null,
   "metadata": {},
   "outputs": [],
   "source": [
    "## Naming convention\n",
    "\n",
    "## small case letters\n",
    "## underscores can use \n",
    "## you can not use number at the start or any kinda special letter\n",
    "##age=19\n",
    "#_age=20\n",
    "# @age =24 this will not work\n",
    "\n"
   ]
  },
  {
   "cell_type": "code",
   "execution_count": 5,
   "metadata": {},
   "outputs": [
    {
     "name": "stdout",
     "output_type": "stream",
     "text": [
      "22\n",
      "<class 'str'>\n",
      "<class 'str'>\n"
     ]
    }
   ],
   "source": [
    "## Variable assignment\n",
    "age=input(\"what is your age:\")\n",
    "print(age)\n",
    "age=print(type(input(\"what is you age:\")))\n",
    "age=\"50\"\n",
    "print(type(age))"
   ]
  }
 ],
 "metadata": {
  "kernelspec": {
   "display_name": "Python 3",
   "language": "python",
   "name": "python3"
  },
  "language_info": {
   "codemirror_mode": {
    "name": "ipython",
    "version": 3
   },
   "file_extension": ".py",
   "mimetype": "text/x-python",
   "name": "python",
   "nbconvert_exporter": "python",
   "pygments_lexer": "ipython3",
   "version": "3.12.0"
  }
 },
 "nbformat": 4,
 "nbformat_minor": 2
}
